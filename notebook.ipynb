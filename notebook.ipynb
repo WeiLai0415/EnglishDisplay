{
 "cells": [
  {
   "cell_type": "code",
   "execution_count": 46,
   "id": "28207a0a-dc25-4914-a35a-af6161c4d070",
   "metadata": {},
   "outputs": [],
   "source": [
    "from urllib.request import urlopen \n",
    "from bs4 import BeautifulSoup\n",
    "\n",
    "\n",
    "html = urlopen(\"https://www.simplyquotes.com/quotes\")\n",
    "bsObj = BeautifulSoup(html)"
   ]
  },
  {
   "cell_type": "code",
   "execution_count": 47,
   "id": "c6c2aa56-b13a-4349-b751-b9d1fbde454c",
   "metadata": {},
   "outputs": [
    {
     "name": "stdout",
     "output_type": "stream",
     "text": [
      "When you are grateful, fear disappears and abundance appears.\n",
      "Pleasure is the only thing one should live for, nothing ages like happiness.\n",
      "Aiming for perfection causes frustration at best and paralysis at worst.\n",
      "The only thing an excuse gives you is an option out of the life you'd like to live.\n",
      "Nine-tenths of discipline is having the patience to do things right.\n",
      "The ability to play is one of the principal criteria of mental health.\n",
      "Chaos is inherent in all compounded things. Strive on with diligence.\n",
      "Life is about making mistakes. Death is about wishing you made more.\n",
      "When you do things right, people won't be sure you've done anything at all.\n",
      "There are all kinds of love in this world but never the same love twice.\n",
      "It's sad, but sometimes moving on with the rest of your life, starts with goodbye.\n",
      "Listen for the instruction, instead of begging for the direction.\n",
      "Nothing can replace courage, a resounding motivation, and that little bit of luck.\n",
      "However difficult life may seem, there is always something you can do and succeed at.\n"
     ]
    }
   ],
   "source": [
    "quoteList = bsObj.findAll(\"div\", {\"class\":\"quote\"})[1:]\n",
    "for quote in quoteList:\n",
    "    print(quote.get_text())"
   ]
  },
  {
   "cell_type": "code",
   "execution_count": 48,
   "id": "007c5001",
   "metadata": {},
   "outputs": [
    {
     "name": "stdout",
     "output_type": "stream",
     "text": [
      "['Aiming', 'for', 'perfection', 'causes', 'frustration', 'at', 'best', 'and', 'paralysis', 'at', 'worst.']\n"
     ]
    }
   ],
   "source": [
    "quote = quoteList[2].get_text()\n",
    "\n",
    "wordList = []\n",
    "word = \"\"\n",
    "for i in quote:\n",
    "    if i != \" \":\n",
    "        word += i\n",
    "    if i == \" \" or i == quote[-1]:\n",
    "        wordList.append(word)\n",
    "        word = \"\"\n",
    "print(wordList)"
   ]
  },
  {
   "cell_type": "code",
   "execution_count": 49,
   "id": "18b8fbbc",
   "metadata": {},
   "outputs": [
    {
     "name": "stdout",
     "output_type": "stream",
     "text": [
      "['Aiming for ', 'perfection ', 'causes ', 'frustration at ', 'best and ', 'paralysis at ', 'worst.']\n"
     ]
    }
   ],
   "source": [
    "wordGroup = []\n",
    "line = \"\"\n",
    "for i in range(len(wordList)):\n",
    "    line += wordList[i]\n",
    "    line += \" \"\n",
    "    if i != len(wordList) - 1:\n",
    "        if len(line + wordList[i + 1]) > 16:\n",
    "            wordGroup.append(line)\n",
    "            line = \"\"\n",
    "    else:\n",
    "        wordGroup.append(line[0: -1])\n",
    "        line = \"\"\n",
    "\n",
    "print(wordGroup)"
   ]
  }
 ],
 "metadata": {
  "kernelspec": {
   "display_name": "Python 3 (ipykernel)",
   "language": "python",
   "name": "python3"
  },
  "language_info": {
   "codemirror_mode": {
    "name": "ipython",
    "version": 3
   },
   "file_extension": ".py",
   "mimetype": "text/x-python",
   "name": "python",
   "nbconvert_exporter": "python",
   "pygments_lexer": "ipython3",
   "version": "3.9.10"
  }
 },
 "nbformat": 4,
 "nbformat_minor": 5
}
