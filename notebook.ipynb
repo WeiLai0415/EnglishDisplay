{
 "cells": [
  {
   "cell_type": "code",
   "execution_count": 1,
   "id": "28207a0a-dc25-4914-a35a-af6161c4d070",
   "metadata": {},
   "outputs": [],
   "source": [
    "from urllib.request import urlopen \n",
    "from bs4 import BeautifulSoup\n",
    "\n",
    "\n",
    "html = urlopen(\"https://www.simplyquotes.com/quotes\")\n",
    "bsObj = BeautifulSoup(html)"
   ]
  },
  {
   "cell_type": "code",
   "execution_count": null,
   "id": "c6c2aa56-b13a-4349-b751-b9d1fbde454c",
   "metadata": {},
   "outputs": [],
   "source": [
    "nameList = bsObj.findAll(\"span\", {\"class\":\"green\"}) \n",
    "for name in nameList:\n",
    "    print(name.get_text())"
   ]
  }
 ],
 "metadata": {
  "kernelspec": {
   "display_name": "Python 3 (ipykernel)",
   "language": "python",
   "name": "python3"
  },
  "language_info": {
   "codemirror_mode": {
    "name": "ipython",
    "version": 3
   },
   "file_extension": ".py",
   "mimetype": "text/x-python",
   "name": "python",
   "nbconvert_exporter": "python",
   "pygments_lexer": "ipython3",
   "version": "3.9.10"
  }
 },
 "nbformat": 4,
 "nbformat_minor": 5
}
